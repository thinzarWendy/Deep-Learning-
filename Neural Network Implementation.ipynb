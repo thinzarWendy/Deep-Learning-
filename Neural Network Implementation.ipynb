{
 "cells": [
  {
   "cell_type": "code",
   "execution_count": 10,
   "id": "a68233ee",
   "metadata": {},
   "outputs": [],
   "source": [
    "#Import important libraries\n",
    "import torch  \n",
    "import matplotlib.pyplot as plt  \n",
    "import numpy as np  \n",
    "import torch.nn.functional as func  \n",
    "import PIL.ImageOps  \n",
    "from torch import nn \n",
    "from torchvision import datasets,transforms  \n",
    "from sklearn.metrics import confusion_matrix, f1_score, ConfusionMatrixDisplay, classification_report,precision_recall_fscore_support, precision_score"
   ]
  },
  {
   "cell_type": "code",
   "execution_count": 3,
   "id": "3e8d7df8",
   "metadata": {},
   "outputs": [],
   "source": [
    "#Loading and transformation of the data\n",
    "device=torch.device(\"cuda:0\" if torch.cuda.is_available() else \"cpu\")  \n",
    "transform1=transforms.Compose([transforms.Resize((28,28)),transforms.ToTensor(),transforms.Normalize((0.5,),(0.5,))])  \n",
    "training_dataset=datasets.MNIST(root='./data',train=True,download=True,transform=transform1)  \n",
    "validation_dataset=datasets.MNIST(root='./data',train=False,download=True,transform=transform1)  \n",
    "training_loader=torch.utils.data.DataLoader(dataset=training_dataset,batch_size=100,shuffle=True)  \n",
    "validation_loader=torch.utils.data.DataLoader(dataset=validation_dataset,batch_size=100,shuffle=False) "
   ]
  },
  {
   "cell_type": "code",
   "execution_count": 4,
   "id": "61393fef",
   "metadata": {},
   "outputs": [],
   "source": [
    "#Hidden node size\n",
    "# 1st hidden layer has 64 neural node \n",
    "# 2nd hidden layer has 32 neural node \n",
    "hidden_size = [64,32] \n",
    "output_size = 10 #Number 0-9"
   ]
  },
  {
   "cell_type": "markdown",
   "id": "95d25df2",
   "metadata": {},
   "source": [
    "# Neural Network Implementation"
   ]
  },
  {
   "cell_type": "code",
   "execution_count": 14,
   "id": "2e7c8056",
   "metadata": {},
   "outputs": [
    {
     "name": "stdout",
     "output_type": "stream",
     "text": [
      "Net(\n",
      "  (conv1): Conv2d(1, 64, kernel_size=(3, 3), stride=(1, 1))\n",
      "  (conv2): Conv2d(64, 32, kernel_size=(3, 3), stride=(1, 1))\n",
      "  (flatten1): Flatten(start_dim=1, end_dim=-1)\n",
      "  (fully1): LazyLinear(in_features=0, out_features=10, bias=True)\n",
      ")\n"
     ]
    },
    {
     "name": "stderr",
     "output_type": "stream",
     "text": [
      "D:\\anaconda3\\lib\\site-packages\\torch\\nn\\modules\\lazy.py:180: UserWarning: Lazy modules are a new feature under heavy development so changes to the API or functionality can happen at any moment.\n",
      "  warnings.warn('Lazy modules are a new feature under heavy development '\n"
     ]
    }
   ],
   "source": [
    "class Net(nn.Module):\n",
    "    def __init__(self,hidden_size1,hidden_size2,output_size):\n",
    "        super().__init__()\n",
    "        self.conv1=nn.Conv2d(1,hidden_size1,kernel_size=3)  \n",
    "        self.conv2=nn.Conv2d(hidden_size1,hidden_size2,kernel_size=3)\n",
    "        self.flatten1= nn.Flatten()\n",
    "        self.fully1 = nn.LazyLinear(output_size)\n",
    "    def forward(self,x):\n",
    "        x=func.relu(self.conv1(x))\n",
    "        x=func.max_pool2d(x,2,2)\n",
    "        x=func.relu(self.conv2(x))\n",
    "        x=func.max_pool2d(x,2,2)\n",
    "        x=self.flatten1(x)\n",
    "        x=self.fully1(x)\n",
    "        return x\n",
    "        \n",
    "        \n",
    "model = Net(64,32,10)\n",
    "print(model)"
   ]
  },
  {
   "cell_type": "code",
   "execution_count": 15,
   "id": "109a073a",
   "metadata": {},
   "outputs": [],
   "source": [
    "model=Net(64,32,10).to(device)  \n",
    "criteron=nn.CrossEntropyLoss()  \n",
    "optimizer=torch.optim.Adam(model.parameters(),lr=0.00001)   \n",
    "epochs=12"
   ]
  },
  {
   "cell_type": "code",
   "execution_count": 41,
   "id": "e2e7498a",
   "metadata": {},
   "outputs": [],
   "source": [
    "loss_history=[]  \n",
    "correct_history=[]  \n",
    "val_loss_history=[]  \n",
    "val_correct_history=[] "
   ]
  },
  {
   "cell_type": "markdown",
   "id": "14b6b5b3",
   "metadata": {},
   "source": [
    "# Training and Validation of Neural Netwrok"
   ]
  },
  {
   "cell_type": "code",
   "execution_count": 29,
   "id": "301bc358",
   "metadata": {},
   "outputs": [
    {
     "name": "stdout",
     "output_type": "stream",
     "text": [
      "training_loss:0.1937,94.5350\n",
      "validation_loss:0.1733,95.2200\n",
      "training_loss:0.1820,94.8417\n",
      "validation_loss:0.1625,95.5300\n",
      "training_loss:0.1715,95.1233\n",
      "validation_loss:0.1536,95.7600\n",
      "training_loss:0.1623,95.3567\n",
      "validation_loss:0.1455,96.0600\n",
      "training_loss:0.1543,95.5950\n",
      "validation_loss:0.1377,96.2800\n",
      "training_loss:0.1470,95.8400\n",
      "validation_loss:0.1318,96.4900\n",
      "training_loss:0.1406,96.0133\n",
      "validation_loss:0.1258,96.6500\n",
      "training_loss:0.1348,96.1650\n",
      "validation_loss:0.1207,96.7800\n",
      "training_loss:0.1296,96.2933\n",
      "validation_loss:0.1161,96.8100\n",
      "training_loss:0.1247,96.4383\n",
      "validation_loss:0.1117,96.8700\n",
      "training_loss:0.1205,96.5517\n",
      "validation_loss:0.1083,96.9800\n",
      "training_loss:0.1166,96.6417\n",
      "validation_loss:0.1044,96.9700\n"
     ]
    }
   ],
   "source": [
    "for e in range(epochs):\n",
    "    loss=0.0  \n",
    "    correct=0.0  \n",
    "    val_loss=0.0  \n",
    "    val_correct=0.0\n",
    "    for input,labels in training_loader:\n",
    "        input=input.to(device)\n",
    "        labels=labels.to(device)\n",
    "        outputs=model(input)\n",
    "        loss1=criteron(outputs,labels)\n",
    "        \n",
    "        optimizer.zero_grad()\n",
    "        \n",
    "        loss1.backward()\n",
    "        optimizer.step()\n",
    "        _,preds=torch.max(outputs,1)\n",
    "        loss+=loss1.item()\n",
    "        correct+=torch.sum(preds==labels.data) \n",
    "    else:\n",
    "        with torch.no_grad():\n",
    "            for val_input,val_labels in validation_loader:\n",
    "                val_input=val_input.to(device)  \n",
    "                val_labels=val_labels.to(device) \n",
    "                val_outputs=model(val_input)\n",
    "                val_loss1=criteron(val_outputs,val_labels)\n",
    "                _,val_preds=torch.max(val_outputs,1)\n",
    "                val_loss+=val_loss1.item()\n",
    "                val_correct+=torch.sum(val_preds==val_labels.data)\n",
    "        \n",
    "        epoch_loss=loss/len(training_loader)  \n",
    "        epoch_acc=correct.float()/len(training_loader)  \n",
    "        loss_history.append(epoch_loss)  \n",
    "        correct_history.append(epoch_acc)  \n",
    "        \n",
    "        val_epoch_loss=val_loss/len(validation_loader)  \n",
    "        val_epoch_acc=val_correct.float()/len(validation_loader)  \n",
    "        val_loss_history.append(val_epoch_loss)  \n",
    "        val_correct_history.append(val_epoch_acc)\n",
    "        \n",
    "        print('training_loss:{:.4f},{:.4f}'.format(epoch_loss,epoch_acc.item()))  \n",
    "        print('validation_loss:{:.4f},{:.4f}'.format(val_epoch_loss,val_epoch_acc.item())) \n",
    "        "
   ]
  },
  {
   "cell_type": "markdown",
   "id": "aa514502",
   "metadata": {},
   "source": [
    "# Visualization"
   ]
  },
  {
   "cell_type": "code",
   "execution_count": 25,
   "id": "4a9f54d6",
   "metadata": {},
   "outputs": [
    {
     "data": {
      "image/png": "[encoded data removed]",
      "text/plain": [
       "<Figure size 432x288 with 1 Axes>"
      ]
     },
     "metadata": {
      "needs_background": "light"
     },
     "output_type": "display_data"
    },
    {
     "data": {
      "image/png": "[encoded data removed]",
      "text/plain": [
       "<Figure size 432x288 with 1 Axes>"
      ]
     },
     "metadata": {
      "needs_background": "light"
     },
     "output_type": "display_data"
    }
   ],
   "source": [
    "plt.plot(loss_history,label='Training Loss')  \n",
    "plt.plot(val_loss_history,label='Validation Loss')  \n",
    "plt.legend()  \n",
    "plt.show()  \n",
    "plt.plot(correct_history,label='Training accuracy')  \n",
    "plt.plot(val_correct_history,label='Validation accuracy')  \n",
    "plt.legend()  \n",
    "plt.show()"
   ]
  }
 ],
 "metadata": {
  "kernelspec": {
   "display_name": "Python 3 (ipykernel)",
   "language": "python",
   "name": "python3"
  },
  "language_info": {
   "codemirror_mode": {
    "name": "ipython",
    "version": 3
   },
   "file_extension": ".py",
   "mimetype": "text/x-python",
   "name": "python",
   "nbconvert_exporter": "python",
   "pygments_lexer": "ipython3",
   "version": "3.9.12"
  }
 },
 "nbformat": 4,
 "nbformat_minor": 5
}
